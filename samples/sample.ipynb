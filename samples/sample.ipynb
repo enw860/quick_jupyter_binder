{
 "cells": [
  {
   "cell_type": "code",
   "execution_count": 27,
   "id": "1a1e49e8-1edb-44de-9958-b1b723ef7f72",
   "metadata": {},
   "outputs": [],
   "source": [
    "# Load dependencies for your project\n",
    "import os\n",
    "import pandas as pd\n",
    "import numpy as np"
   ]
  },
  {
   "cell_type": "code",
   "execution_count": null,
   "id": "cd085676-c992-4ee6-bb1d-36978496416c",
   "metadata": {},
   "outputs": [],
   "source": [
    "# Absoulte path of current directory\n",
    "THIS_DIR = os.path.abspath(\"\")\n",
    "\n",
    "# Defining the data source filename \n",
    "# Since the target file is current in this directory, you can put the file name directly\n",
    "# If the same data file is at the parent directory, then you may want to change it something like \"../data.csv\"\n",
    "DATA_FILE_NAME = \"data.csv\"\n",
    "\n",
    "# Build the absoulte file path to the data source file\n",
    "DATA_FILE_PATH = os.path.join(THIS_DIR, DATA_FILE_NAME)\n",
    "print(f\"You pointing your data source path as {DATA_FILE_PATH}\")"
   ]
  },
  {
   "cell_type": "code",
   "execution_count": null,
   "id": "17db9a8d-8588-4019-9f4b-ef9ca4ad22d7",
   "metadata": {},
   "outputs": [],
   "source": [
    "# Check if the CSV data file exists\n",
    "is_data_file_exists = os.path.isfile(DATA_FILE_PATH)\n",
    "print(f\"Is {DATA_FILE_PATH} exists: {is_data_file_exists}\")\n",
    "\n",
    "if not is_data_file_exists:\n",
    "    print(f\"Error: Exiting the kernal as the data file is not found!\")\n",
    "    exit()"
   ]
  },
  {
   "cell_type": "code",
   "execution_count": 30,
   "id": "4c0d7cad-1c97-4e75-ab63-cc67e09e9f6f",
   "metadata": {},
   "outputs": [],
   "source": [
    "# Open file in with pandas\n",
    "df = pd.read_csv(DATA_FILE_PATH)"
   ]
  },
  {
   "cell_type": "code",
   "execution_count": null,
   "id": "23b70795-18a6-4936-96b1-76a07175778f",
   "metadata": {},
   "outputs": [],
   "source": [
    "# Read index of a dataframe\n",
    "df.index"
   ]
  },
  {
   "cell_type": "code",
   "execution_count": null,
   "id": "564fb27d-5bf2-42b9-9bf0-892b353a97dd",
   "metadata": {},
   "outputs": [],
   "source": [
    "# Read columns of a dataframe\n",
    "df.columns"
   ]
  },
  {
   "cell_type": "code",
   "execution_count": null,
   "id": "c5fba8de-ebbe-463c-917e-939d90b5e9ce",
   "metadata": {},
   "outputs": [],
   "source": [
    "# Explore a little bit about the dataframe\n",
    "df.describe()"
   ]
  }
 ],
 "metadata": {
  "kernelspec": {
   "display_name": "Python 3 (ipykernel)",
   "language": "python",
   "name": "python3"
  },
  "language_info": {
   "codemirror_mode": {
    "name": "ipython",
    "version": 3
   },
   "file_extension": ".py",
   "mimetype": "text/x-python",
   "name": "python",
   "nbconvert_exporter": "python",
   "pygments_lexer": "ipython3",
   "version": "3.8.13"
  }
 },
 "nbformat": 4,
 "nbformat_minor": 5
}
